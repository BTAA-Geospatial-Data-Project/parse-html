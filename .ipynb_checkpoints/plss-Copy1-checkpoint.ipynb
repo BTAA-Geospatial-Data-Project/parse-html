{
 "cells": [
  {
   "cell_type": "code",
   "execution_count": 41,
   "metadata": {},
   "outputs": [],
   "source": [
    "# import libraries\n",
    "\n",
    "import csv\n",
    "import re\n",
    "import urllib.request\n",
    "from urllib.request import urlopen\n",
    "import csv\n",
    "import pandas as pd\n",
    "# from tabulate import  tabulate\n",
    "import bs4\n",
    "import lxml\n"
   ]
  },
  {
   "cell_type": "code",
   "execution_count": 51,
   "metadata": {},
   "outputs": [
    {
     "ename": "SyntaxError",
     "evalue": "unexpected EOF while parsing (<ipython-input-51-0a2a5c6ecfcd>, line 10)",
     "output_type": "error",
     "traceback": [
      "\u001b[0;36m  File \u001b[0;32m\"<ipython-input-51-0a2a5c6ecfcd>\"\u001b[0;36m, line \u001b[0;32m10\u001b[0m\n\u001b[0;31m    writer.writerow((list(dfs[0][3])[:-1])\u001b[0m\n\u001b[0m                                          ^\u001b[0m\n\u001b[0;31mSyntaxError\u001b[0m\u001b[0;31m:\u001b[0m unexpected EOF while parsing\n"
     ]
    }
   ],
   "source": [
    "with open('newOutput.csv','w') as csvfile, open('plssLinks.csv','r') as urlfile:\n",
    "    writer = csv.writer(csvfile, delimiter=',', quotechar='\"')\n",
    "#     #Write the headers\n",
    "#     writer.writerow(['Township','Range','Country','Callsign','Network Affiliation'])\n",
    "    #Read urls into a list\n",
    "    urls=urlfile.readlines()\n",
    "    for url in urls:\n",
    "        dfs = pd.read_html(url)\n",
    "        #convert second column of 1st dataframe to a list and write to csv file\n",
    "        writer.writerow((list(dfs[0][1])[:-1])"
   ]
  },
  {
   "cell_type": "code",
   "execution_count": null,
   "metadata": {},
   "outputs": [],
   "source": [
    "contents = []\n",
    "\n",
    "with open('plssLinks.csv','r') as csvf: # Open file in read mode\n",
    "    links = csv.reader(csvf)\n",
    "    for url in links:\n",
    "        contents.append(url) # Add each url to list content\n",
    "# print(contents)\n",
    "\n",
    "for url in contents:\n",
    "    table = pd.read_html(url, index_col=None, header=None,)\n",
    "    df = table[2]\n",
    "    df_list.append(df)\n",
    "\n",
    "dfmaster = pd.concat(df_list, sort=False)\n",
    "dfmaster = dfmaster.drop_duplicates().reset_index(drop=True)\n",
    "print(tabulate(dfmaster.head(), headers='keys'))\n",
    "dfmaster.to_csv('IB_tickers.csv')"
   ]
  },
  {
   "cell_type": "code",
   "execution_count": null,
   "metadata": {},
   "outputs": [],
   "source": [
    "\n",
    "# from urllib.request import urlopen\n",
    "from bs4 import BeautifulSoup\n",
    "\n",
    "contents = []\n",
    "\n",
    "# f = csv.writer(open('GLO.csv', 'w'))\n",
    "# # f.writerow(['Township','Range',])\n",
    "\n",
    "with open('plssLinks.csv','r') as csvf: # Open file in read mode\n",
    "    links = csv.reader(csvf)\n",
    "    for url in links:\n",
    "        contents.append(url) # Add each url to list content\n",
    "# print(contents)\n",
    "        \n",
    "        \n",
    "# url = 'http://www.mngeo.state.mn.us/glo/glo.php?township=153&range=27'\n",
    "# raw = pd.read_html(url)\n",
    "# # print(raw)\n"
   ]
  },
  {
   "cell_type": "code",
   "execution_count": null,
   "metadata": {},
   "outputs": [],
   "source": [
    "for url in contents:  # Parse through each url in the list.\n",
    "    page = urlopen(url[0]).read()\n",
    "    dfs = pd.read_html(page)\n",
    "    df = pd.concat(dfs)\n",
    "    df.to_csv(\"table_item.csv\", index=False)\n",
    "#     print (df.head())\n",
    "\n",
    "#     print(raw)\n",
    "#     soup = BeautifulSoup(page, \"html.parser\")\n",
    "#     tables = soup.find_all('td')\n",
    "#     print(tables)\n",
    "        \n",
    "\n",
    "#     for row in tables:\n",
    "        \n",
    "#         cells = row.findAll(\"td\", attrs={'align':'center'})\n",
    "#         print(cells)\n",
    "#         townshipField = soup.find(0)\n",
    "#         rangeField = soup.find(1)\n",
    "\n",
    "#         township = townshipField.text.strip(),\n",
    "#         range = rangeField.text.strip(),\n",
    "\n",
    "#         f.writerow([township,range])\n"
   ]
  }
 ],
 "metadata": {
  "kernelspec": {
   "display_name": "Python 3",
   "language": "python",
   "name": "python3"
  },
  "language_info": {
   "codemirror_mode": {
    "name": "ipython",
    "version": 3
   },
   "file_extension": ".py",
   "mimetype": "text/x-python",
   "name": "python",
   "nbconvert_exporter": "python",
   "pygments_lexer": "ipython3",
   "version": "3.8.3"
  }
 },
 "nbformat": 4,
 "nbformat_minor": 4
}
