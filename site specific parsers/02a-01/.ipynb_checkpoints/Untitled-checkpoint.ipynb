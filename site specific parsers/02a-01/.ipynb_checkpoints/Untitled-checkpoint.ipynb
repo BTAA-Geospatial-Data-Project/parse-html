{
 "cells": [
  {
   "cell_type": "code",
   "execution_count": null,
   "id": "floppy-indiana",
   "metadata": {},
   "outputs": [],
   "source": [
    "# import libraries\n",
    "\n",
    "import csv\n",
    "import re\n",
    "import urllib2\n",
    "import csv\n",
    "from urllib2 import urlopen\n",
    "import pandas as pd\n",
    "\n",
    "# from urllib.request import urlopen\n",
    "from bs4 import BeautifulSoup\n",
    "\n",
    "contents = []\n",
    "\n",
    "f = csv.writer(open('02a-01_metadata.csv', 'w'))\n",
    "# f.writerow(['Title','Date','Publisher','Description','Download'])\n",
    "\n",
    "with open('metadataOutput.csv','r') as csvf: # Open file in read mode\n",
    "    urls = csv.reader(csvf)\n",
    "    for url in urls:\n",
    "        contents.append(url) # Add each url to list contents\n",
    "\n",
    "for url in contents:  # Parse through each url in the list.\n",
    "\tpage = urlopen(url[0]).read()\n",
    "\tsoup = BeautifulSoup(page, \"html.parser\")\n",
    "\ttable = soup.find('table')\n",
    "\ttable_rows = table.find_all('tr')\n",
    "\n",
    "\tfor tr in table_rows:\n",
    "\t\ttd = tr.find_all('td')\n",
    "\t\trow = [tr.text for tr in td]\n",
    "\t\tprint(row)"
   ]
  }
 ],
 "metadata": {
  "kernelspec": {
   "display_name": "Python 3",
   "language": "python",
   "name": "python3"
  },
  "language_info": {
   "codemirror_mode": {
    "name": "ipython",
    "version": 3
   },
   "file_extension": ".py",
   "mimetype": "text/x-python",
   "name": "python",
   "nbconvert_exporter": "python",
   "pygments_lexer": "ipython3",
   "version": "3.8.2"
  }
 },
 "nbformat": 4,
 "nbformat_minor": 5
}
