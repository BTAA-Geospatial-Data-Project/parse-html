{
 "cells": [
  {
   "cell_type": "code",
   "execution_count": 1,
   "metadata": {},
   "outputs": [],
   "source": [
    "# import libraries\n",
    "\n",
    "import csv\n",
    "import re\n",
    "import urllib.request\n",
    "from urllib.request import urlopen\n",
    "import csv\n",
    "import pandas as pd\n",
    "# from tabulate import  tabulate\n",
    "import bs4\n",
    "import lxml\n"
   ]
  },
  {
   "cell_type": "code",
   "execution_count": 5,
   "metadata": {},
   "outputs": [
    {
     "ename": "SyntaxError",
     "evalue": "invalid syntax (<ipython-input-5-a20b7e3aaaf1>, line 1)",
     "output_type": "error",
     "traceback": [
      "\u001b[0;36m  File \u001b[0;32m\"<ipython-input-5-a20b7e3aaaf1>\"\u001b[0;36m, line \u001b[0;32m1\u001b[0m\n\u001b[0;31m    url_list = [http://www.mngeo.state.mn.us/glo/glo.php?township=26&range=21,http://www.mngeo.state.mn.us/glo/glo.php?township=26&range=20,http://www.mngeo.state.mn.us/glo/glo.php?township=26&range=22,http://www.mngeo.state.mn.us/glo/glo.php?township=27&range=23,http://www.mngeo.state.mn.us/glo/glo.php?township=27&range=24,http://www.mngeo.state.mn.us/glo/glo.php?township=27&range=22,http://www.mngeo.state.mn.us/glo/glo.php?township=27&range=21,http://www.mngeo.state.mn.us/glo/glo.php?township=27&range=20,http://www.mngeo.state.mn.us/glo/glo.php?township=28&range=20,http://www.mngeo.state.mn.us/glo/glo.php?township=28&range=21,http://www.mngeo.state.mn.us/glo/glo.php?township=28&range=22,http://www.mngeo.state.mn.us/glo/glo.php?township=28&range=23,http://www.mngeo.state.mn.us/glo/glo.php?township=28&range=24,http://www.mngeo.state.mn.us/glo/glo.php?township=29&range=24,http://www.mngeo.state.mn.us/glo/glo.php?township=29&range=21,http://www.mngeo.state.mn.us/glo/glo.php?township=29&range=23]\u001b[0m\n\u001b[0m                    ^\u001b[0m\n\u001b[0;31mSyntaxError\u001b[0m\u001b[0;31m:\u001b[0m invalid syntax\n"
     ]
    }
   ],
   "source": [
    "url_list = [http://www.mngeo.state.mn.us/glo/glo.php?township=26&range=21,http://www.mngeo.state.mn.us/glo/glo.php?township=26&range=20,http://www.mngeo.state.mn.us/glo/glo.php?township=26&range=22,http://www.mngeo.state.mn.us/glo/glo.php?township=27&range=23,http://www.mngeo.state.mn.us/glo/glo.php?township=27&range=24,http://www.mngeo.state.mn.us/glo/glo.php?township=27&range=22,http://www.mngeo.state.mn.us/glo/glo.php?township=27&range=21,http://www.mngeo.state.mn.us/glo/glo.php?township=27&range=20,http://www.mngeo.state.mn.us/glo/glo.php?township=28&range=20,http://www.mngeo.state.mn.us/glo/glo.php?township=28&range=21,http://www.mngeo.state.mn.us/glo/glo.php?township=28&range=22,http://www.mngeo.state.mn.us/glo/glo.php?township=28&range=23,http://www.mngeo.state.mn.us/glo/glo.php?township=28&range=24,http://www.mngeo.state.mn.us/glo/glo.php?township=29&range=24,http://www.mngeo.state.mn.us/glo/glo.php?township=29&range=21,http://www.mngeo.state.mn.us/glo/glo.php?township=29&range=23]\n",
    "\n",
    "        \n",
    "data = []\n",
    "for url in url_list:\n",
    "    page = urllib.request.urlopen(url)\n",
    "    soup = BeautifulSoup(page, \"html.parser\")\n",
    "\n",
    "    urldict = {}\n",
    "    tr = soup.find_all('tr')\n",
    "    for row in tr:\n",
    "        th = soup.find_all('th')\n",
    "        td = soup.find_all('td')\n",
    "\n",
    "    for item in range(0,len(th)):    \n",
    "        urldict.update({th[item].text:td[item].text})\n",
    "\n",
    "    data.append(urldict)"
   ]
  },
  {
   "cell_type": "code",
   "execution_count": null,
   "metadata": {},
   "outputs": [],
   "source": [
    "cols = []\n",
    "for d in range(0,len(data)):\n",
    "    for i in data[d].keys():\n",
    "        if i not in cols:\n",
    "            cols.insert(len(cols),i)"
   ]
  },
  {
   "cell_type": "code",
   "execution_count": null,
   "metadata": {},
   "outputs": [],
   "source": [
    "with open('file_url.csv', 'w') as output_file:\n",
    "    dict_writer = csv.DictWriter(output_file, cols)\n",
    "    dict_writer.writeheader()\n",
    "    dict_writer.writerows(data)"
   ]
  }
 ],
 "metadata": {
  "kernelspec": {
   "display_name": "Python 3",
   "language": "python",
   "name": "python3"
  },
  "language_info": {
   "codemirror_mode": {
    "name": "ipython",
    "version": 3
   },
   "file_extension": ".py",
   "mimetype": "text/x-python",
   "name": "python",
   "nbconvert_exporter": "python",
   "pygments_lexer": "ipython3",
   "version": "3.8.3"
  }
 },
 "nbformat": 4,
 "nbformat_minor": 4
}
